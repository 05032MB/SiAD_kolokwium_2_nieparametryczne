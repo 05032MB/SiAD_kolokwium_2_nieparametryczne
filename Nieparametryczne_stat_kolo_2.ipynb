{
 "cells": [
  {
   "cell_type": "markdown",
   "metadata": {},
   "source": [
    "![Nieparametryczne - stosowanie](media/Screenshot_20200616_102332.png)"
   ]
  },
  {
   "cell_type": "markdown",
   "metadata": {},
   "source": [
    "W skrócie\n",
    "* najsłabsze z metod testowania (niższa moc testów)\n",
    "* używane kiedy nie wiemy nic o rozkładzie danych"
   ]
  },
  {
   "cell_type": "markdown",
   "metadata": {},
   "source": [
    "## Rangowanie"
   ]
  },
  {
   "cell_type": "code",
   "execution_count": 6,
   "metadata": {},
   "outputs": [
    {
     "data": {
      "text/html": [
       "<ol class=list-inline>\n",
       "\t<li>1</li>\n",
       "\t<li>3</li>\n",
       "\t<li>3</li>\n",
       "\t<li>3</li>\n",
       "\t<li>6</li>\n",
       "\t<li>6</li>\n",
       "\t<li>6</li>\n",
       "</ol>\n"
      ],
      "text/latex": [
       "\\begin{enumerate*}\n",
       "\\item 1\n",
       "\\item 3\n",
       "\\item 3\n",
       "\\item 3\n",
       "\\item 6\n",
       "\\item 6\n",
       "\\item 6\n",
       "\\end{enumerate*}\n"
      ],
      "text/markdown": [
       "1. 1\n",
       "2. 3\n",
       "3. 3\n",
       "4. 3\n",
       "5. 6\n",
       "6. 6\n",
       "7. 6\n",
       "\n",
       "\n"
      ],
      "text/plain": [
       "[1] 1 3 3 3 6 6 6"
      ]
     },
     "metadata": {},
     "output_type": "display_data"
    }
   ],
   "source": [
    "rang <- c(1,2,2,2,5,5,5)\n",
    "rank(rang)"
   ]
  },
  {
   "cell_type": "markdown",
   "metadata": {},
   "source": [
    "## Test znaków\n",
    "* najsłabszy z nieparametrycznych\n",
    "* łatwy w użyciu\n",
    "* odpowiednik testu T dla **sparowanych** danych"
   ]
  },
  {
   "cell_type": "markdown",
   "metadata": {},
   "source": [
    "![Test znaków](media/znaki.png)"
   ]
  },
  {
   "cell_type": "markdown",
   "metadata": {},
   "source": [
    "## Uwaga! N oznacza liczbę danych w jednej próbie, ale po odjęciu przypadków, w których różnica wynosi 0."
   ]
  },
  {
   "cell_type": "markdown",
   "metadata": {},
   "source": [
    "![](media/znaki2.png)"
   ]
  },
  {
   "cell_type": "markdown",
   "metadata": {},
   "source": [
    "Alternatywnie, też dla dużej próby, równoważny wzór:"
   ]
  },
  {
   "cell_type": "markdown",
   "metadata": {},
   "source": [
    "![](media/znaki_prosty.png)"
   ]
  },
  {
   "cell_type": "markdown",
   "metadata": {},
   "source": [
    "Gdzie **T** oznacza liczbę plusów. N jak zawsze - liczba obserwacji, ale bez przypaków, że X_i = Y_i (różnica wynosi 0)"
   ]
  },
  {
   "cell_type": "code",
   "execution_count": 40,
   "metadata": {},
   "outputs": [
    {
     "name": "stdout",
     "output_type": "stream",
     "text": [
      "[1] \"Jest 4 znaczących obserwacji.\"\n",
      "[1] \"Test lewostronny\"\n",
      "p-wartosc 0.841344746068543 \n",
      "Zbior krytyczny: (-Inf, -1.644854)\n",
      "[1] \"Test prawostronny\"\n",
      "p-wartosc 0.158655253931457 \n",
      "Zbior krytyczny: (1.644854, Inf)\n",
      "[1] \"Test obustronny\"\n",
      "p-wartosc 0.317310507862914 \n",
      "Zbior krytyczny: (-Inf, -1.959964) v (1.959964, Inf)\n"
     ]
    }
   ],
   "source": [
    "X <- c(1,4,6,8,10)\n",
    "Y <- c(1,2,3,9,5) \n",
    "#tesutjemy X - Y \n",
    "poziom_istotnosci <- 0.05\n",
    "\n",
    "R <- X - Y\n",
    "#R\n",
    "\n",
    "plusy_il <- length(R[R > 0])\n",
    "minusy_il <- length(R[R < 0])\n",
    "\n",
    "znaczace <- plusy_il + minusy_il\n",
    "\n",
    "print(sprintf(\"Jest %d znaczących obserwacji.\", znaczace))\n",
    "\n",
    "Z <- (2*plusy_il - znaczace)/sqrt(znaczace)\n",
    "\n",
    "print(\"Test lewostronny\")\n",
    "cat(paste(\"p-wartosc\", pnorm(Z), '\\n'))\n",
    "obsz_kryt_lewo <- qnorm(poziom_istotnosci)\n",
    "cat(sprintf(\"Zbior krytyczny: (-Inf, %f)\\n\", obsz_kryt_lewo))\n",
    "\n",
    "print(\"Test prawostronny\")\n",
    "cat(paste(\"p-wartosc\", 1 - pnorm(Z), '\\n'))\n",
    "obsz_kryt_prawo <- qnorm(1 - poziom_istotnosci)\n",
    "cat(sprintf(\"Zbior krytyczny: (%f, Inf)\\n\", obsz_kryt_prawo))\n",
    "\n",
    "print(\"Test obustronny\")\n",
    "cat(paste(\"p-wartosc\", 2*min(pnorm(Z), 1 - pnorm(Z)), '\\n'))\n",
    "obsz_kryt_obu <- qnorm(poziom_istotnosci / 2)\n",
    "cat(sprintf(\"Zbior krytyczny: (-Inf, %f) v (%f, Inf)\\n\", obsz_kryt_obu, -obsz_kryt_obu))"
   ]
  },
  {
   "cell_type": "markdown",
   "metadata": {},
   "source": [
    "## Test Wilcoxona (sparowany)\n",
    "![](media/wilcox1.png)\n",
    "![](media/wilcox2.png)"
   ]
  },
  {
   "cell_type": "markdown",
   "metadata": {},
   "source": [
    "W skrócie\n",
    "* obliczamy moduły różnicy i rangujemy\n",
    "* sumujemy osobno rangi dla różnic dodatnich i ujemnych (przed obliczeniem modułu)\n",
    "* odczytujemy wartość statystyki T tak jak podane w ramce wyżej w zależności od rodzaju testu"
   ]
  },
  {
   "cell_type": "code",
   "execution_count": 23,
   "metadata": {},
   "outputs": [
    {
     "name": "stdout",
     "output_type": "stream",
     "text": [
      "[1] \"Statystyka testowa\"\n",
      "[1] \"Test lewostronny\"\n",
      "Statystyka: 7.000000\n",
      "[1] \"Test prawostronny\"\n",
      "Statystyka: 8.000000\n",
      "[1] \"Test obustronny\"\n",
      "Statystyka: 7.000000 \n",
      "\n",
      "Używajcie ostrożnie testów wbudowanych w R\n",
      "[1] \"Test obustronny\"\n"
     ]
    },
    {
     "data": {
      "text/plain": [
       "\n",
       "\tWilcoxon signed rank test\n",
       "\n",
       "data:  x and y\n",
       "V = 7, p-value = 1\n",
       "alternative hypothesis: true location shift is not equal to 0\n"
      ]
     },
     "metadata": {},
     "output_type": "display_data"
    },
    {
     "name": "stdout",
     "output_type": "stream",
     "text": [
      "[1] \"Test lewostronny\"\n"
     ]
    },
    {
     "data": {
      "text/plain": [
       "\n",
       "\tWilcoxon signed rank test\n",
       "\n",
       "data:  x and y\n",
       "V = 7, p-value = 0.5\n",
       "alternative hypothesis: true location shift is less than 0\n"
      ]
     },
     "metadata": {},
     "output_type": "display_data"
    },
    {
     "name": "stdout",
     "output_type": "stream",
     "text": [
      "[1] \"Test prawostronny\"\n"
     ]
    },
    {
     "data": {
      "text/plain": [
       "\n",
       "\tWilcoxon signed rank test\n",
       "\n",
       "data:  x and y\n",
       "V = 7, p-value = 0.5938\n",
       "alternative hypothesis: true location shift is greater than 0\n"
      ]
     },
     "metadata": {},
     "output_type": "display_data"
    }
   ],
   "source": [
    "x <- c(1,2,9,12,5)\n",
    "y <- c(2,4,6,8,10)\n",
    "\n",
    "dif <- x - y\n",
    "rk <- rank (abs(dif))\n",
    "\n",
    "s_plus <- (sum(rk[which(dif > 0)]))\n",
    "s_minus <- (sum(rk[which(dif < 0)]))\n",
    "\n",
    "print(sprintf(\"Statystyka testowa\"))\n",
    "\n",
    "print(\"Test lewostronny\")\n",
    "cat(sprintf(\"Statystyka: %f\\n\", s_plus))\n",
    "\n",
    "print(\"Test prawostronny\")\n",
    "cat(sprintf(\"Statystyka: %f\\n\", s_minus))\n",
    "\n",
    "print(\"Test obustronny\")\n",
    "cat(sprintf(\"Statystyka: %f \\n\", min(s_plus, s_minus)))\n",
    "\n",
    "cat(\"\\nUżywajcie ostrożnie testów wbudowanych w R\\n\")\n",
    "##### Używajcie ostrożnie\n",
    "paired <- TRUE\n",
    "\n",
    "print(\"Test obustronny\")\n",
    "wilcox.test(x, y, paired = paired, alternative=\"two.sided\" )\n",
    "print(\"Test lewostronny\")\n",
    "wilcox.test(x, y, paired = paired, alternative=\"less\" )\n",
    "print(\"Test prawostronny\")\n",
    "wilcox.test(x, y, paired = paired, alternative=\"greater\" )"
   ]
  },
  {
   "cell_type": "markdown",
   "metadata": {},
   "source": [
    "## Test U Manna-Whitneya (niesparowany Wilcoxona)\n",
    "![](media/umann1.png)\n",
    "![](media/umann2.png)"
   ]
  },
  {
   "cell_type": "code",
   "execution_count": 19,
   "metadata": {},
   "outputs": [
    {
     "data": {
      "text/html": [
       "<ol class=list-inline>\n",
       "\t<li>1</li>\n",
       "\t<li>2.5</li>\n",
       "\t<li>9</li>\n",
       "\t<li>11</li>\n",
       "\t<li>5.5</li>\n",
       "\t<li>16</li>\n",
       "\t<li>17</li>\n",
       "\t<li>14</li>\n",
       "\t<li>18</li>\n",
       "\t<li>12</li>\n",
       "\t<li>23</li>\n",
       "\t<li>2.5</li>\n",
       "\t<li>4</li>\n",
       "\t<li>7</li>\n",
       "\t<li>8</li>\n",
       "\t<li>10</li>\n",
       "\t<li>14</li>\n",
       "\t<li>5.5</li>\n",
       "\t<li>21</li>\n",
       "\t<li>14</li>\n",
       "\t<li>22</li>\n",
       "\t<li>19</li>\n",
       "\t<li>20</li>\n",
       "\t<li>24</li>\n",
       "</ol>\n"
      ],
      "text/latex": [
       "\\begin{enumerate*}\n",
       "\\item 1\n",
       "\\item 2.5\n",
       "\\item 9\n",
       "\\item 11\n",
       "\\item 5.5\n",
       "\\item 16\n",
       "\\item 17\n",
       "\\item 14\n",
       "\\item 18\n",
       "\\item 12\n",
       "\\item 23\n",
       "\\item 2.5\n",
       "\\item 4\n",
       "\\item 7\n",
       "\\item 8\n",
       "\\item 10\n",
       "\\item 14\n",
       "\\item 5.5\n",
       "\\item 21\n",
       "\\item 14\n",
       "\\item 22\n",
       "\\item 19\n",
       "\\item 20\n",
       "\\item 24\n",
       "\\end{enumerate*}\n"
      ],
      "text/markdown": [
       "1. 1\n",
       "2. 2.5\n",
       "3. 9\n",
       "4. 11\n",
       "5. 5.5\n",
       "6. 16\n",
       "7. 17\n",
       "8. 14\n",
       "9. 18\n",
       "10. 12\n",
       "11. 23\n",
       "12. 2.5\n",
       "13. 4\n",
       "14. 7\n",
       "15. 8\n",
       "16. 10\n",
       "17. 14\n",
       "18. 5.5\n",
       "19. 21\n",
       "20. 14\n",
       "21. 22\n",
       "22. 19\n",
       "23. 20\n",
       "24. 24\n",
       "\n",
       "\n"
      ],
      "text/plain": [
       " [1]  1.0  2.5  9.0 11.0  5.5 16.0 17.0 14.0 18.0 12.0 23.0  2.5  4.0  7.0  8.0\n",
       "[16] 10.0 14.0  5.5 21.0 14.0 22.0 19.0 20.0 24.0"
      ]
     },
     "metadata": {},
     "output_type": "display_data"
    },
    {
     "name": "stdout",
     "output_type": "stream",
     "text": [
      "[1] \"Sumy wynoszą dla R1: 129.000000, dla R2: 171.000000\"\n",
      "[1] \"Statystyka U: 80.000000\"\n",
      "[1] \"Statystyka Z: -0.492461\"\n"
     ]
    }
   ],
   "source": [
    "x <- c(1,2,9,12,5,213,244, 123, 324, 55, 1231)\n",
    "y <- c(2,4,6,8,10, 123, 5, 678, 123, 989, 344, 467, 8786)\n",
    "\n",
    "#########\n",
    "\n",
    "n1 <- length(x)\n",
    "n2 <- length(y)\n",
    "\n",
    "sumprzedz <-function(x,start,end) {\n",
    "  return(sum(x[start:end]))\n",
    "}\n",
    "\n",
    "R <- rank(c(x,y))\n",
    "R\n",
    "\n",
    "R1 <- sumprzedz(R, 1, n1)\n",
    "R2 <- sumprzedz(R, n1 + 1, n1+ n2)\n",
    "\n",
    "print(sprintf(\"Sumy wynoszą dla R1: %f, dla R2: %f\", R1, R2))\n",
    "\n",
    "print(sprintf(\"Statystyka U: %f\", n1 * n2 + (n1 * (n1 + 1)/2 ) - R1 ))\n",
    "\n",
    "print(sprintf(\"Statystyka Z: %f\", (R1-R2 - (n1 - n2)*(n1+n2+1)/2)/sqrt(n1*n2*(n1+n2+1)/3) )) #XXX sprawdzić"
   ]
  },
  {
   "cell_type": "markdown",
   "metadata": {},
   "source": [
    "## Wybór testów statystycznych\n",
    "![](media/wybor.png)"
   ]
  },
  {
   "cell_type": "markdown",
   "metadata": {},
   "source": [
    "## Testy przy regresji\n",
    "\n",
    "### Istotność regresji\n",
    "![](media/reg_sing.png)"
   ]
  },
  {
   "cell_type": "code",
   "execution_count": 6,
   "metadata": {},
   "outputs": [
    {
     "name": "stdout",
     "output_type": "stream",
     "text": [
      "[1] \"Wartość statystyki F: 13.300000\"\n",
      "[1] \"p-wartość (stopnie swobody 1, 19): 0.001715\"\n",
      "[1] \"obszar krytyczny (4.380750, Inf)\"\n"
     ]
    }
   ],
   "source": [
    "#pamiętajcie, że SST = SSR + SSE\n",
    "\n",
    "p_ist = 0.05\n",
    "\n",
    "SSR <- 7\n",
    "SSE <- 10\n",
    "n <- 21\n",
    "\n",
    "F <- SSR/SSE*(n - 2)\n",
    "print(sprintf(\"Wartość statystyki F: %f\", F))\n",
    "\n",
    "print(sprintf(\"p-wartość (stopnie swobody %g, %g): %f\", 1, n - 2, pf(F, df1=1, df2=n-2, lower.tail = FALSE))) \n",
    "print(sprintf(\"obszar krytyczny (%f, Inf)\", qf(p_ist, df1=1, df2=n-2, lower.tail = FALSE))) \n",
    "#ZAWSZE!!! test prawostronny"
   ]
  },
  {
   "cell_type": "markdown",
   "metadata": {},
   "source": [
    "Współczynnik determinancji R^2"
   ]
  },
  {
   "cell_type": "code",
   "execution_count": 17,
   "metadata": {},
   "outputs": [
    {
     "data": {
      "text/html": [
       "0.411764705882353"
      ],
      "text/latex": [
       "0.411764705882353"
      ],
      "text/markdown": [
       "0.411764705882353"
      ],
      "text/plain": [
       "[1] 0.4117647"
      ]
     },
     "metadata": {},
     "output_type": "display_data"
    }
   ],
   "source": [
    "SST = SSR + SSE\n",
    "R2 <- 1- SSE/SST #wsp. determinancji\n",
    "R2"
   ]
  },
  {
   "cell_type": "code",
   "execution_count": 21,
   "metadata": {},
   "outputs": [
    {
     "data": {
      "text/html": [
       "0.380804953560371"
      ],
      "text/latex": [
       "0.380804953560371"
      ],
      "text/markdown": [
       "0.380804953560371"
      ],
      "text/plain": [
       "[1] 0.380805"
      ]
     },
     "metadata": {},
     "output_type": "display_data"
    }
   ],
   "source": [
    "k <- 1\n",
    "\n",
    "R_adj <- 1 - ( (1-R2)*(n-1) )/(n-k-1)\n",
    "R_adj\n",
    "\n",
    "#skorygowany R, zawsze mniejszy od R?\n",
    "#k - liczba predyktorów (zmiennych), n punktów"
   ]
  },
  {
   "cell_type": "markdown",
   "metadata": {},
   "source": [
    "### Istotność regresji wielorakiej\n",
    "\n",
    "![](media/reg_pl.png)\n",
    "\n",
    "gdzie **n** - liczność próby, **m** - ilość zmiennych zależnych"
   ]
  },
  {
   "cell_type": "code",
   "execution_count": 7,
   "metadata": {},
   "outputs": [
    {
     "name": "stdout",
     "output_type": "stream",
     "text": [
      "[1] \"Wartość statystyki F: 13.300000\"\n",
      "[1] \"p-wartość (stopnie swobody 1, 19): 0.001715\"\n",
      "[1] \"obszar krytyczny (4.380750, Inf)\"\n"
     ]
    }
   ],
   "source": [
    "p_ist <- 0.05\n",
    "\n",
    "SSR <- 7\n",
    "SSE <- 10\n",
    "n <- 21\n",
    "m <- 1\n",
    "\n",
    "F <- (SSR/m)/(SSE/(n - m - 1))\n",
    "print(sprintf(\"Wartość statystyki F: %f\", F))\n",
    "\n",
    "print(sprintf(\"p-wartość (stopnie swobody %g, %g): %f\", m, n - m - 1, pf(F, df1=m, df2=(n - m - 1), lower.tail = FALSE))) \n",
    "print(sprintf(\"obszar krytyczny (%f, Inf)\", qf(p_ist, df1=1, df2=n-2, lower.tail = FALSE))) \n",
    "#ZAWSZE!!! test prawostronny"
   ]
  },
  {
   "cell_type": "markdown",
   "metadata": {},
   "source": [
    "## Jeśli macie dane, wystarczy zrobić"
   ]
  },
  {
   "cell_type": "code",
   "execution_count": 24,
   "metadata": {},
   "outputs": [
    {
     "data": {
      "text/plain": [
       "\n",
       "Call:\n",
       "lm(formula = y ~ x)\n",
       "\n",
       "Residuals:\n",
       "      1       2       3       4       5 \n",
       "-2.0092 -0.4240 -1.3272 -0.5714  4.3318 \n",
       "\n",
       "Coefficients:\n",
       "            Estimate Std. Error t value Pr(>|t|)\n",
       "(Intercept)   3.5945     2.2158   1.622    0.203\n",
       "x             0.4147     0.3103   1.337    0.274\n",
       "\n",
       "Residual standard error: 2.891 on 3 degrees of freedom\n",
       "Multiple R-squared:  0.3733,\tAdjusted R-squared:  0.1644 \n",
       "F-statistic: 1.787 on 1 and 3 DF,  p-value: 0.2737\n"
      ]
     },
     "metadata": {},
     "output_type": "display_data"
    }
   ],
   "source": [
    "model <- lm(y ~ x)\n",
    "summary(model)\n",
    "\n",
    "#żeby obliczyć model dla regresji wielorakiej (wielu zmiennych), wystarczy:\n",
    "#lm (y ~ x1 + x2 + x3 + ... ), gdzie x_, to kolejne zmienne. Statystyka F zostanie policzona automatycznie"
   ]
  },
  {
   "cell_type": "markdown",
   "metadata": {},
   "source": [
    "## Obliczanie SST, SSR i SSE\n",
    "SST = SSR + SSE\n",
    "\n",
    "![](media/ssx.png)"
   ]
  },
  {
   "cell_type": "code",
   "execution_count": null,
   "metadata": {},
   "outputs": [],
   "source": []
  }
 ],
 "metadata": {
  "kernelspec": {
   "display_name": "R",
   "language": "R",
   "name": "ir"
  },
  "language_info": {
   "codemirror_mode": "r",
   "file_extension": ".r",
   "mimetype": "text/x-r-source",
   "name": "R",
   "pygments_lexer": "r",
   "version": "3.6.1"
  }
 },
 "nbformat": 4,
 "nbformat_minor": 4
}
