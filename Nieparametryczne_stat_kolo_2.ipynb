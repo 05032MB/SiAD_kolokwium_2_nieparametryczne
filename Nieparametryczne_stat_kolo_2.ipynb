{
 "cells": [
  {
   "cell_type": "markdown",
   "metadata": {},
   "source": [
    "![Nieparametryczne - stosowanie](media/Screenshot_20200616_102332.png)"
   ]
  },
  {
   "cell_type": "markdown",
   "metadata": {},
   "source": [
    "W skrócie\n",
    "* najsłabsze z metod testowania (niższa moc testów)\n",
    "* używane kiedy nie wiemy nic o rozkładzie danych"
   ]
  },
  {
   "cell_type": "markdown",
   "metadata": {},
   "source": [
    "## Rangowanie"
   ]
  },
  {
   "cell_type": "code",
   "execution_count": 6,
   "metadata": {},
   "outputs": [
    {
     "data": {
      "text/html": [
       "<ol class=list-inline>\n",
       "\t<li>1</li>\n",
       "\t<li>3</li>\n",
       "\t<li>3</li>\n",
       "\t<li>3</li>\n",
       "\t<li>6</li>\n",
       "\t<li>6</li>\n",
       "\t<li>6</li>\n",
       "</ol>\n"
      ],
      "text/latex": [
       "\\begin{enumerate*}\n",
       "\\item 1\n",
       "\\item 3\n",
       "\\item 3\n",
       "\\item 3\n",
       "\\item 6\n",
       "\\item 6\n",
       "\\item 6\n",
       "\\end{enumerate*}\n"
      ],
      "text/markdown": [
       "1. 1\n",
       "2. 3\n",
       "3. 3\n",
       "4. 3\n",
       "5. 6\n",
       "6. 6\n",
       "7. 6\n",
       "\n",
       "\n"
      ],
      "text/plain": [
       "[1] 1 3 3 3 6 6 6"
      ]
     },
     "metadata": {},
     "output_type": "display_data"
    }
   ],
   "source": [
    "rang <- c(1,2,2,2,5,5,5)\n",
    "rank(rang)"
   ]
  },
  {
   "cell_type": "markdown",
   "metadata": {},
   "source": [
    "## Test znaków\n",
    "* najsłabszy z nieparametrycznych\n",
    "* łatwy w użyciu\n",
    "* odpowiednik testu T dla **sparowanych** danych"
   ]
  },
  {
   "cell_type": "markdown",
   "metadata": {},
   "source": [
    "![Test znaków](media/znaki.png)"
   ]
  },
  {
   "cell_type": "markdown",
   "metadata": {},
   "source": [
    "## Uwaga! N oznacza liczbę danych w jednej próbie, ale po odjęciu przypadków, w których różnica wynosi 0."
   ]
  },
  {
   "cell_type": "markdown",
   "metadata": {},
   "source": [
    "![](media/znaki2.png)"
   ]
  },
  {
   "cell_type": "markdown",
   "metadata": {},
   "source": [
    "Alternatywnie, też dla dużej próby, równoważny wzór:"
   ]
  },
  {
   "cell_type": "markdown",
   "metadata": {},
   "source": [
    "![](media/znaki_prosty.png)"
   ]
  },
  {
   "cell_type": "markdown",
   "metadata": {},
   "source": [
    "Gdzie **T** oznacza liczbę plusów. N jak zawsze - liczba obserwacji, ale bez przypaków, że X_i = Y_i (różnica wynosi 0)"
   ]
  },
  {
   "cell_type": "code",
   "execution_count": 39,
   "metadata": {},
   "outputs": [
    {
     "name": "stdout",
     "output_type": "stream",
     "text": [
      "[1] \"Jest 4 znaczących obserwacji.\"\n",
      "[1] \"Test lewostronny\"\n",
      "p-wartosc 0.841344746068543 \n",
      "Zbior krytyczny: (-Inf, -1.644854)\n",
      "[1] \"Test prawostronny\"\n",
      "p-wartosc 0.158655253931457 \n",
      "Zbior krytyczny: (1.644854, Inf)\n",
      "[1] \"Test obustronny\"\n",
      "p-wartosc 1.68268949213709 \n",
      "Zbior krytyczny: (-Inf, -1.959964) v (1.959964, Inf)\n"
     ]
    }
   ],
   "source": [
    "X <- c(1,4,6,8,10)\n",
    "Y <- c(1,2,3,9,5) \n",
    "#tesutjemy X - Y \n",
    "poziom_istotnosci <- 0.05\n",
    "\n",
    "R <- X - Y\n",
    "#R\n",
    "\n",
    "plusy_il <- length(R[R > 0])\n",
    "minusy_il <- length(R[R < 0])\n",
    "\n",
    "znaczace <- plusy_il + minusy_il\n",
    "\n",
    "print(sprintf(\"Jest %d znaczących obserwacji.\", znaczace))\n",
    "\n",
    "Z <- (2*plusy_il - znaczace)/sqrt(znaczace)\n",
    "\n",
    "print(\"Test lewostronny\")\n",
    "cat(paste(\"p-wartosc\", pnorm(Z), '\\n'))\n",
    "obsz_kryt_lewo <- qnorm(poziom_istotnosci)\n",
    "cat(sprintf(\"Zbior krytyczny: (-Inf, %f)\\n\", obsz_kryt_lewo))\n",
    "\n",
    "print(\"Test prawostronny\")\n",
    "cat(paste(\"p-wartosc\", 1 - pnorm(Z), '\\n'))\n",
    "obsz_kryt_prawo <- qnorm(1 - poziom_istotnosci)\n",
    "cat(sprintf(\"Zbior krytyczny: (%f, Inf)\\n\", obsz_kryt_prawo))\n",
    "\n",
    "print(\"Test obustronny\")\n",
    "cat(paste(\"p-wartosc\", pnorm(Z) + 1 - pnorm(-Z), '\\n'))\n",
    "obsz_kryt_obu <- qnorm(poziom_istotnosci / 2)\n",
    "cat(sprintf(\"Zbior krytyczny: (-Inf, %f) v (%f, Inf)\\n\", obsz_kryt_obu, -obsz_kryt_obu))"
   ]
  },
  {
   "cell_type": "markdown",
   "metadata": {},
   "source": [
    "## Test Wilcoxona\n",
    "![](media/wilcox1.png)\n",
    "![](media/wilcox2.png)"
   ]
  },
  {
   "cell_type": "markdown",
   "metadata": {},
   "source": [
    "W skrócie\n",
    "* obliczamy moduły różnicy i rangujemy\n",
    "* sumujemy osobno rangi dla różnic dodatnich i ujemnych (przed obliczeniem modułu)\n",
    "* odczytujemy wartość statystyki T tak jak podane w ramce wyżej w zależności od rodzaju testu"
   ]
  },
  {
   "cell_type": "code",
   "execution_count": 38,
   "metadata": {},
   "outputs": [
    {
     "name": "stdout",
     "output_type": "stream",
     "text": [
      "[1] \"Statystyka testowa\"\n",
      "[1] \"Test lewostronny\"\n",
      "Statystyka: 7.000000\n",
      "[1] \"Test prawostronny\"\n",
      "Statystyka: 8.000000\n",
      "[1] \"Test obustronny\"\n",
      "Statystyka: 7.000000 \n",
      "\n",
      "Używajcie ostrożnie testów wbudowanych w R\n",
      "[1] \"Test obustronny\"\n"
     ]
    },
    {
     "data": {
      "text/plain": [
       "\n",
       "\tWilcoxon signed rank test\n",
       "\n",
       "data:  x and y\n",
       "V = 7, p-value = 1\n",
       "alternative hypothesis: true location shift is not equal to 0\n"
      ]
     },
     "metadata": {},
     "output_type": "display_data"
    },
    {
     "name": "stdout",
     "output_type": "stream",
     "text": [
      "[1] \"Test lewostronny\"\n"
     ]
    },
    {
     "data": {
      "text/plain": [
       "\n",
       "\tWilcoxon signed rank test\n",
       "\n",
       "data:  x and y\n",
       "V = 7, p-value = 0.5\n",
       "alternative hypothesis: true location shift is less than 0\n"
      ]
     },
     "metadata": {},
     "output_type": "display_data"
    },
    {
     "name": "stdout",
     "output_type": "stream",
     "text": [
      "[1] \"Test prawostronny\"\n"
     ]
    },
    {
     "data": {
      "text/plain": [
       "\n",
       "\tWilcoxon signed rank test\n",
       "\n",
       "data:  x and y\n",
       "V = 7, p-value = 0.5938\n",
       "alternative hypothesis: true location shift is greater than 0\n"
      ]
     },
     "metadata": {},
     "output_type": "display_data"
    }
   ],
   "source": [
    "x <- c(1,2,9,12,5)\n",
    "y <- c(2,4,6,8,10)\n",
    "\n",
    "dif <- x - y\n",
    "\n",
    "s_plus <- abs(sum(dif[which(dif > 0)]))\n",
    "s_minus <- abs(sum(dif[which(dif < 0)]))\n",
    "\n",
    "print(sprintf(\"Statystyka testowa\"))\n",
    "\n",
    "print(\"Test lewostronny\")\n",
    "cat(sprintf(\"Statystyka: %f\\n\", s_plus))\n",
    "\n",
    "print(\"Test prawostronny\")\n",
    "cat(sprintf(\"Statystyka: %f\\n\", s_minus))\n",
    "\n",
    "print(\"Test obustronny\")\n",
    "cat(sprintf(\"Statystyka: %f \\n\", min(s_plus, s_minus)))\n",
    "\n",
    "cat(\"\\nUżywajcie ostrożnie testów wbudowanych w R\\n\")\n",
    "##### Używajcie ostrożnie\n",
    "paired <- TRUE\n",
    "\n",
    "print(\"Test obustronny\")\n",
    "wilcox.test(x, y, paired = paired, alternative=\"two.sided\" )\n",
    "print(\"Test lewostronny\")\n",
    "wilcox.test(x, y, paired = paired, alternative=\"less\" )\n",
    "print(\"Test prawostronny\")\n",
    "wilcox.test(x, y, paired = paired, alternative=\"greater\" )"
   ]
  },
  {
   "cell_type": "markdown",
   "metadata": {},
   "source": [
    "## Wybór testów statystycznych\n",
    "![](media/wybor.png)"
   ]
  }
 ],
 "metadata": {
  "kernelspec": {
   "display_name": "R",
   "language": "R",
   "name": "ir"
  },
  "language_info": {
   "codemirror_mode": "r",
   "file_extension": ".r",
   "mimetype": "text/x-r-source",
   "name": "R",
   "pygments_lexer": "r",
   "version": "3.6.1"
  }
 },
 "nbformat": 4,
 "nbformat_minor": 4
}
